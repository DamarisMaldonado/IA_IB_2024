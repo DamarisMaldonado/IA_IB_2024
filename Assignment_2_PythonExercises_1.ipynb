{
  "nbformat": 4,
  "nbformat_minor": 0,
  "metadata": {
    "colab": {
      "provenance": [],
      "authorship_tag": "ABX9TyNJX3ODcGhe8BuBb30f3hoc",
      "include_colab_link": true
    },
    "kernelspec": {
      "name": "python3",
      "display_name": "Python 3"
    },
    "language_info": {
      "name": "python"
    }
  },
  "cells": [
    {
      "cell_type": "markdown",
      "metadata": {
        "id": "view-in-github",
        "colab_type": "text"
      },
      "source": [
        "<a href=\"https://colab.research.google.com/github/DamarisMaldonado/IA_IB_2024/blob/main/Assignment_2_PythonExercises_1.ipynb\" target=\"_parent\"><img src=\"https://colab.research.google.com/assets/colab-badge.svg\" alt=\"Open In Colab\"/></a>"
      ]
    },
    {
      "cell_type": "code",
      "source": [
        "##Text Analysis Tool:\n",
        "def words(text):\n",
        "    words = text.split()\n",
        "    return len(words)\n",
        "\n",
        "def sentences(text):\n",
        "    sentences = text.split('.')\n",
        "    return len(sentences)\n",
        "\n",
        "def paragraphs(text):\n",
        "    paragraphs = text.split('\\n\\n')\n",
        "    return len(paragraphs)\n",
        "\n",
        "def average_word_length(text):\n",
        "    words = text.split()\n",
        "    letters_on_text = sum(len(word) for word in words)\n",
        "    return letters_on_text / len(words)\n",
        "\n",
        "def common_words(text):\n",
        "    words = text.split()\n",
        "    frequency = {}\n",
        "    for word in words:\n",
        "        if word in frequency:\n",
        "            frequency[word] += 1\n",
        "        else:\n",
        "            frequency[word] = 1\n",
        "    common = sorted(frequency.items(), key=lambda x: x[1], reverse=True)\n",
        "    return common[:10]\n",
        "\n",
        "def text_analysis(file_path):\n",
        "    with open(file_path, 'r') as file:\n",
        "        text = file.read()\n",
        "\n",
        "    print(f'The number of words on the text is: {words(text)}')\n",
        "    print(f'The number of sentences on the text is: {sentences(text)}')\n",
        "    print(f'The number of paragraphs on the text is: {paragraphs(text)}')\n",
        "    print(f'The average word length is: {average_word_length(text):.2f}')\n",
        "    print('MThe most common words and their frequency are:')\n",
        "    for word, frequency in common_words(text):\n",
        "        print(f'{word}: {frequency}')\n",
        "\n",
        "text_analysis('damaris.txt')\n",
        "\n"
      ],
      "metadata": {
        "id": "0WNKx6_nzcrW"
      },
      "execution_count": null,
      "outputs": []
    },
    {
      "cell_type": "code",
      "execution_count": null,
      "metadata": {
        "id": "O3GYi_5uRuQV"
      },
      "outputs": [],
      "source": [
        "## Hangman Game:\n",
        "import random\n",
        "\n",
        "def hangman_game():\n",
        "    words = ['saturn', 'jupiter', 'neptune', 'earth', 'mercury']\n",
        "    word = random.choice(words)\n",
        "    guessed = ['_'] * len(word)\n",
        "    attempts = 5\n",
        "    guessed_letters = set()\n",
        "\n",
        "    while attempts > 0 and '_' in guessed:\n",
        "        print(' '.join(guessed))\n",
        "        letter = input('Guess a letter of the word: ').lower()\n",
        "\n",
        "        if letter in guessed_letters:\n",
        "            print('You already guessed that letter.')\n",
        "        elif letter in word:\n",
        "            for i in range(len(word)):\n",
        "                if word[i] == letter:\n",
        "                    guessed[i] = letter\n",
        "        else:\n",
        "            attempts -= 1\n",
        "            print(f'Wrong letter. You still have {attempts} attempts left.')\n",
        "\n",
        "        guessed_letters.add(letter)\n",
        "\n",
        "    if '_' not in guessed:\n",
        "        print(f'Congratulations! You have guessed the word: {word}')\n",
        "    else:\n",
        "        print(f'Sorry, you have no attempts left. The word was: {word}')\n",
        "\n",
        "\n",
        "hangman_game()"
      ]
    },
    {
      "cell_type": "code",
      "source": [
        "##Number Guessing Game:\n",
        "\n",
        "import random\n",
        "\n",
        "def number_guessing_game():\n",
        "    number = random.randint(1, 100)\n",
        "    guess = None\n",
        "\n",
        "    while guess != number:\n",
        "        guess = int(input('Guess a number between 1 and 100: '))\n",
        "\n",
        "        if guess < number:\n",
        "            print('Too low, try again!')\n",
        "        elif guess > number:\n",
        "            print('Too high, try again!')\n",
        "        else:\n",
        "            print('Congratulations! You guessed the number.')\n",
        "\n",
        "# Example\n",
        "number_guessing_game()"
      ],
      "metadata": {
        "id": "lTFBtuhlXiCb"
      },
      "execution_count": null,
      "outputs": []
    }
  ]
}